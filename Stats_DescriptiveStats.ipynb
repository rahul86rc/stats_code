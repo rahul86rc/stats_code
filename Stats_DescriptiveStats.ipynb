{
 "cells": [
  {
   "cell_type": "code",
   "execution_count": 1,
   "id": "67b45409",
   "metadata": {},
   "outputs": [],
   "source": [
    "import numpy as np\n",
    "import seaborn as sns\n",
    "from scipy import stats\n",
    "import pandas as pd\n",
    "from scipy.stats import spearmanr"
   ]
  },
  {
   "cell_type": "markdown",
   "id": "31983663",
   "metadata": {},
   "source": [
    "# MEASURES OF CENTRAL TENDENCY"
   ]
  },
  {
   "cell_type": "code",
   "execution_count": 2,
   "id": "185ded21",
   "metadata": {},
   "outputs": [],
   "source": [
    "ds = np.sort(np.random.randint(1,20,16))"
   ]
  },
  {
   "cell_type": "code",
   "execution_count": 3,
   "id": "103027ab",
   "metadata": {},
   "outputs": [
    {
     "data": {
      "text/plain": [
       "array([ 1,  1,  4,  5,  7,  8, 10, 11, 11, 12, 13, 15, 15, 15, 16, 19])"
      ]
     },
     "execution_count": 3,
     "metadata": {},
     "output_type": "execute_result"
    }
   ],
   "source": [
    "ds"
   ]
  },
  {
   "cell_type": "code",
   "execution_count": 4,
   "id": "ecf50563",
   "metadata": {},
   "outputs": [
    {
     "name": "stdout",
     "output_type": "stream",
     "text": [
      "11.5\n",
      "10.1875\n",
      "[ 1  1  4  5  7  8 10 11 11 12 13 15 15 15 16 19]\n",
      "[15]\n",
      "[10 11 12 25 25 27 31 33 34 34 35 36 43 50 59] 7\n",
      "[10, 25, 33, 36, 59]\n",
      "[19 22 23 25 26 28 29 32 34 37 39] 5\n",
      "[19, 23, 28, 34, 39]\n"
     ]
    },
    {
     "name": "stderr",
     "output_type": "stream",
     "text": [
      "C:\\Users\\rahul\\anaconda3\\lib\\site-packages\\seaborn\\_decorators.py:36: FutureWarning: Pass the following variable as a keyword arg: x. From version 0.12, the only valid positional argument will be `data`, and passing other arguments without an explicit keyword will result in an error or misinterpretation.\n",
      "  warnings.warn(\n"
     ]
    },
    {
     "data": {
      "text/plain": [
       "<AxesSubplot:>"
      ]
     },
     "execution_count": 4,
     "metadata": {},
     "output_type": "execute_result"
    },
    {
     "data": {
      "image/png": "[encoded data removed]",
      "text/plain": [
       "<Figure size 432x288 with 1 Axes>"
      ]
     },
     "metadata": {
      "needs_background": "light"
     },
     "output_type": "display_data"
    }
   ],
   "source": [
    "\n",
    "\n",
    "def mean(dat)->np.array:\n",
    "    return sum(dat)/len(dat)\n",
    "\n",
    "def median(dat):\n",
    "    mid_point = int(len(dat)/2)\n",
    "    if (len(dat)%2) == 0:\n",
    "        return (dat[mid_point]+dat[mid_point+1])/2\n",
    "    else:\n",
    "        return (dat[mid_point])\n",
    "\n",
    "def mode(dat):\n",
    "    print (dat)\n",
    "    val, count = np.unique(dat,return_counts=True)\n",
    "    num_freq = dict(zip(val,count))\n",
    "    values_list = np.array(list(num_freq.values()))\n",
    "    max_val = np.max(values_list)\n",
    "    mode = [val for val in num_freq.keys() if (num_freq[val]==values_list.max())]\n",
    "    return mode\n",
    "\n",
    "def IQR(dat):\n",
    "    dat = np.sort(dat)\n",
    "    mid_point = int(len(dat)/2)\n",
    "    print (dat, mid_point)\n",
    "    return [min(dat), median(dat[:mid_point]), median(dat), median(dat[mid_point+1:]), max(dat)]\n",
    "\n",
    "def outlier_zscore(dat):\n",
    "    zscore_list = stats.zscore(dat)\n",
    "    outlier_dat =  zip(dat, zscore_list)\n",
    "    return [key for key, val in outlier_dat if ((val>3) or (val<-3))]\n",
    "    \n",
    "print (median(ds))\n",
    "print (mean(ds))\n",
    "print (mode(ds))\n",
    "print (IQR([10,11,12,25,25,27,31,33,34,34,35,36,43,50,59]))\n",
    "print (IQR([19, 26, 25, 37, 32, 28, 22, 23, 29, 34, 39]))\n",
    "sns.boxplot([10,11,12,25,25,27,31,33,34,34,35,36,43,50,59])"
   ]
  },
  {
   "cell_type": "code",
   "execution_count": 5,
   "id": "363c444d",
   "metadata": {},
   "outputs": [
    {
     "name": "stdout",
     "output_type": "stream",
     "text": [
      "[ 9  9  8  7 14 11 13 11 11  4]\n",
      "Maximum value of the array is 14\n"
     ]
    }
   ],
   "source": [
    "arr = np.random.randint(1,20,10)\n",
    "print(arr)\n",
    "#find maximum value\n",
    "max_value = np.max(arr)\n",
    "print('Maximum value of the array is',max_value)"
   ]
  },
  {
   "cell_type": "markdown",
   "id": "36323170",
   "metadata": {},
   "source": [
    "# MEASURES OF SPREAD"
   ]
  },
  {
   "cell_type": "code",
   "execution_count": 6,
   "id": "bbf7f584",
   "metadata": {},
   "outputs": [
    {
     "data": {
      "image/png": "[encoded data removed]",
      "text/plain": [
       "<Figure size 432x288 with 1 Axes>"
      ]
     },
     "metadata": {
      "needs_background": "light"
     },
     "output_type": "display_data"
    },
    {
     "name": "stdout",
     "output_type": "stream",
     "text": [
      "mean is 99.25822367369582  median is  99.68309799607692\n",
      "-1.2232017543536375\n"
     ]
    },
    {
     "name": "stderr",
     "output_type": "stream",
     "text": [
      "C:\\Users\\rahul\\anaconda3\\lib\\site-packages\\seaborn\\_decorators.py:36: FutureWarning: Pass the following variable as a keyword arg: x. From version 0.12, the only valid positional argument will be `data`, and passing other arguments without an explicit keyword will result in an error or misinterpretation.\n",
      "  warnings.warn(\n"
     ]
    },
    {
     "data": {
      "text/plain": [
       "<AxesSubplot:>"
      ]
     },
     "execution_count": 6,
     "metadata": {},
     "output_type": "execute_result"
    },
    {
     "data": {
      "image/png": "[encoded data removed]",
      "text/plain": [
       "<Figure size 432x288 with 1 Axes>"
      ]
     },
     "metadata": {
      "needs_background": "light"
     },
     "output_type": "display_data"
    }
   ],
   "source": [
    "from scipy.stats import skewnorm, skew\n",
    "import matplotlib.pyplot as plt\n",
    "\n",
    "numValues = 100\n",
    "maxValue = 100\n",
    "skewness = -2000   #Negative values are left skewed, positive values are right skewed.\n",
    "random_data = skewnorm.rvs(a = skewness,loc=maxValue, size=numValues)\n",
    "# random_data = random - min(random)      #Shift the set so the minimum value is equal to zero.\n",
    "# random_data = random / max(random)      #Standadize all the vlues between 0 and 1. \n",
    "# # random_data = random * maxValue  \n",
    "\n",
    "plt.hist(random_data,30, color = 'red')\n",
    "plt.show()\n",
    "print ('mean is', mean(random_data),' median is ', median(random_data))\n",
    "print (skew(random_data))\n",
    "sns.boxplot(random_data)"
   ]
  },
  {
   "cell_type": "markdown",
   "id": "baba0471",
   "metadata": {},
   "source": [
    "# OUTLIER CHECK"
   ]
  },
  {
   "cell_type": "code",
   "execution_count": 19,
   "id": "b177f915",
   "metadata": {},
   "outputs": [
    {
     "name": "stdout",
     "output_type": "stream",
     "text": [
      "mean is  31.0\n",
      "[10 11 12 25 25 27 31 33 34 34 35 36 43 50 59] 7\n",
      "[10, 25, 33, 36, 59] 52.5 8.5\n",
      "[59]\n"
     ]
    },
    {
     "name": "stderr",
     "output_type": "stream",
     "text": [
      "C:\\Users\\rahul\\anaconda3\\lib\\site-packages\\seaborn\\_decorators.py:36: FutureWarning: Pass the following variable as a keyword arg: x. From version 0.12, the only valid positional argument will be `data`, and passing other arguments without an explicit keyword will result in an error or misinterpretation.\n",
      "  warnings.warn(\n"
     ]
    },
    {
     "data": {
      "text/plain": [
       "<AxesSubplot:>"
      ]
     },
     "execution_count": 19,
     "metadata": {},
     "output_type": "execute_result"
    },
    {
     "data": {
      "image/png": "[encoded data removed]",
      "text/plain": [
       "<Figure size 432x288 with 1 Axes>"
      ]
     },
     "metadata": {
      "needs_background": "light"
     },
     "output_type": "display_data"
    }
   ],
   "source": [
    "dataset = np.array([26,15,20.5,31,-350,31,30.5])\n",
    "dataset = np.array([10,11,12,25,25,27,31,33,34,34,35,36,43,50,59])\n",
    "print ('mean is ',dataset.mean())\n",
    "IQR_data = IQR(dataset)\n",
    "upper_threshold = IQR_data[3]+(1.5*(IQR_data[3]-IQR_data[1]))\n",
    "lower_threshold = IQR_data[1]-(1.5*(IQR_data[3]-IQR_data[1]))\n",
    "print (IQR_data,upper_threshold,lower_threshold)\n",
    "outlier_data = [val for val in dataset if ((val>upper_threshold) or (val<lower_threshold)) ]\n",
    "print (outlier_data)\n",
    "sns.boxplot(dataset)"
   ]
  },
  {
   "cell_type": "markdown",
   "id": "2a790c7d",
   "metadata": {},
   "source": [
    "# FIND OUTLIER USING Z-SCORE METHOD"
   ]
  },
  {
   "cell_type": "code",
   "execution_count": 26,
   "id": "d0b76cf8",
   "metadata": {},
   "outputs": [
    {
     "name": "stdout",
     "output_type": "stream",
     "text": [
      "[15]\n"
     ]
    }
   ],
   "source": [
    "dataset = np.array([1,2,2,3,1,1,15,2,2,2,3,1,1,2])\n",
    "zscore_data = outlier_zscore(dataset)\n",
    "print (zscore_data)"
   ]
  },
  {
   "cell_type": "markdown",
   "id": "c1e8f054",
   "metadata": {},
   "source": [
    "# COVARIANCE AND CORRELATION"
   ]
  },
  {
   "cell_type": "code",
   "execution_count": 53,
   "id": "eca91e67",
   "metadata": {},
   "outputs": [
    {
     "name": "stdout",
     "output_type": "stream",
     "text": [
      "Between a and b : positive covariance  [[ 7.3   10.95 ]\n",
      " [10.95  16.425]]\n",
      "Between a and b : positive correlation  SpearmanrResult(correlation=0.9999999999999999, pvalue=1.4042654220543672e-24)\n",
      "Between b and c : negative covariance  [[ 16.425 -10.95 ]\n",
      " [-10.95    7.3  ]]\n",
      "Between c and b : positive correlation  -0.9999999999999999\n",
      "Between c and b : negative covariance  [[  7.3   -10.95 ]\n",
      " [-10.95   16.425]]\n",
      "Between c and b : positive correlation  -0.9999999999999999\n",
      "Between c and d : negative covariance  [[ 7.3   10.95 ]\n",
      " [10.95  16.425]]\n",
      "Between c and d : positive correlation  0.9999999999999999\n",
      "Between a and e : no covariance  [[ 7.3 -2. ]\n",
      " [-2.  51.5]]\n",
      "Between a and e : no correlation  0.0\n"
     ]
    },
    {
     "data": {
      "image/png": "[encoded data removed]",
      "text/plain": [
       "<Figure size 432x288 with 5 Axes>"
      ]
     },
     "metadata": {
      "needs_background": "light"
     },
     "output_type": "display_data"
    }
   ],
   "source": [
    "df = pd.DataFrame({\n",
    "    'a':np.array([1,3,4,6,8]),\n",
    "    'b':np.array([1,3,4,6,8])*1.5,\n",
    "    'c':np.array([1,3,4,6,8])*-1,\n",
    "    'd':np.array([1,3,4,6,8])*-1.5,\n",
    "    'e':np.array([1,17,2,-1,6])\n",
    "})\n",
    "#POSITIVE COVARIANCE\n",
    "plt.subplot(3,2,1)\n",
    "plt.scatter(df['a'], df['b'])\n",
    "plt.xlabel('a')\n",
    "plt.ylabel('b')\n",
    "\n",
    "print ('Between a and b : positive covariance ', np.cov(df['a'], df['b']))\n",
    "\n",
    "corr = spearmanr(df['a'].values, df['b'].values)\n",
    "print ('Between a and b : positive correlation ', corr)\n",
    "\n",
    "#NEGATIVE COVARIANCE\n",
    "plt.subplot(3,2,2)\n",
    "plt.scatter(df['b'], df['c'])\n",
    "plt.xlabel('b')\n",
    "plt.ylabel('c')\n",
    "print ('Between b and c : negative covariance ', np.cov(df['b'], df['c']))\n",
    "corr, _ = spearmanr(df['b'], df['c'])\n",
    "print ('Between c and b : positive correlation ', corr)\n",
    "\n",
    "plt.subplot(3,2,3)\n",
    "plt.scatter(df['c'], df['b'])\n",
    "plt.xlabel('c')\n",
    "plt.ylabel('b')\n",
    "print ('Between c and b : negative covariance ', np.cov(df['c'], df['b']))\n",
    "corr, _ = spearmanr(df['c'], df['b'])\n",
    "print ('Between c and b : positive correlation ', corr)\n",
    "\n",
    "plt.subplot(3,2,4)\n",
    "plt.scatter(df['c'], df['d'])\n",
    "plt.xlabel('c')\n",
    "plt.ylabel('d')\n",
    "print ('Between c and d : negative covariance ', np.cov(df['c'], df['d']))\n",
    "corr, _ = spearmanr(df['c'], df['d'])\n",
    "print ('Between c and d : positive correlation ', corr)\n",
    "\n",
    "plt.subplot(3,2,5)\n",
    "plt.scatter(df['a'].values, df['e'].values)\n",
    "plt.xlabel('a')\n",
    "plt.ylabel('e')\n",
    "print ('Between a and e : no covariance ', np.cov(df['a'], df['e']))\n",
    "corr, _ = spearmanr(df['a'], df['e'])\n",
    "print ('Between a and e : no correlation ', corr)\n"
   ]
  },
  {
   "cell_type": "markdown",
   "id": "ca16829e",
   "metadata": {},
   "source": [
    "# ASSIGNMENT CORRELATION"
   ]
  },
  {
   "cell_type": "code",
   "execution_count": 61,
   "id": "23bcadf3",
   "metadata": {},
   "outputs": [
    {
     "name": "stdout",
     "output_type": "stream",
     "text": [
      "correlation is  0.9575066230015952\n",
      "correlation is \n",
      "              temperature     sales\n",
      "temperature     1.000000  0.957507\n",
      "sales           0.957507  1.000000\n",
      "strongly correlated and is positive in nature\n"
     ]
    }
   ],
   "source": [
    "temp = np.array([14.2,16.4,11.9,15.2,18.5,22.1,19.4,25.1,23.4,18.1,22.6,17.2])\n",
    "sales = np.array([215,325,185,332,406,522,412,614,544,421,445,408])\n",
    "corr, _ = spearmanr(temp, sales)\n",
    "icecream_sales = pd.DataFrame({'temperature':temp, 'sales':sales})\n",
    "print ('correlation is ', icecream_sales['temperature'].corr(icecream_sales['sales']))\n",
    "print ('correlation is \\n', icecream_sales.corr(method='pearson'))\n",
    "if corr>0.9:\n",
    "    print ('strongly correlated and is positive in nature')\n",
    "elif corr<-0.9:\n",
    "    print ('strongly correlated and is nagative in nature')\n",
    "    "
   ]
  },
  {
   "cell_type": "code",
   "execution_count": 62,
   "id": "ebcb7399",
   "metadata": {},
   "outputs": [
    {
     "data": {
      "text/plain": [
       "0.9510489510489512"
      ]
     },
     "execution_count": 62,
     "metadata": {},
     "output_type": "execute_result"
    }
   ],
   "source": [
    "corr"
   ]
  },
  {
   "cell_type": "markdown",
   "id": "05f22aed",
   "metadata": {},
   "source": [
    "# ADDITIVE THEOREM OF PROBABILITY"
   ]
  },
  {
   "cell_type": "code",
   "execution_count": 63,
   "id": "ef907d7d",
   "metadata": {},
   "outputs": [],
   "source": [
    "#Assignment 1\n",
    "#In a math class of 30 students, 17 are boys and 13 are girls. On a unit test, 4 boys and 5 girls made an A grade. \n",
    "#If a student is chosen at random from the class, what is the probability of choosing a girl or an A student?"
   ]
  },
  {
   "cell_type": "code",
   "execution_count": 64,
   "id": "288f5c16",
   "metadata": {},
   "outputs": [
    {
     "data": {
      "text/plain": [
       "0.5692307692307692"
      ]
     },
     "execution_count": 64,
     "metadata": {},
     "output_type": "execute_result"
    }
   ],
   "source": [
    "Prob_Girl = 5/13\n",
    "Prob_A_Grade = 9/30\n",
    "#Mutually Non Exlusive as there is a possibility to get a girl with an A grade\n",
    "combined_prob = Prob_Girl + Prob_A_Grade - (Prob_Girl*Prob_A_Grade)\n",
    "combined_prob"
   ]
  },
  {
   "cell_type": "markdown",
   "id": "e49ef105",
   "metadata": {},
   "source": [
    "# HYPOTHESIS TESTING HANDS ON"
   ]
  },
  {
   "cell_type": "markdown",
   "id": "2d5ee4a8",
   "metadata": {},
   "source": [
    "Q. The average weights of students of my class is 168 lbs. A nutritionist believes that the\n",
    "mean is different. She measured the weights of 36 students and found that the mean to be\n",
    "169.5 lbs with a std of 3.9. AT 95% confidence, is there enough evidence to discard the null\n",
    "hypothesis?"
   ]
  },
  {
   "cell_type": "code",
   "execution_count": 90,
   "id": "82dd389d",
   "metadata": {},
   "outputs": [
    {
     "name": "stdout",
     "output_type": "stream",
     "text": [
      "169.49999999999997 3.900000000001033\n",
      "[-9.85730977e+01  2.61414891e+02  3.22717357e+02  1.08185009e+02\n",
      " -3.81734780e+01 -6.47143036e+01 -2.24632415e-01 -9.63774552e+00\n",
      " -6.38961276e+01  1.62235684e+02 -8.56095781e+01  4.08325012e+01\n",
      "  3.03744751e+02 -9.09232327e+01  5.37411340e+01 -3.80026480e+01\n",
      "  1.08057498e+02 -3.66966106e+01 -2.55673448e+02 -5.94138593e+01\n",
      " -8.38064702e+01  1.99237735e+02  1.63031641e+01  5.23575298e+01\n",
      "  5.51083477e+01  4.15651938e+01 -1.54624734e+02 -1.91426317e+02\n",
      " -1.81039286e+02 -1.12185951e+02 -2.09426829e+02  7.90743175e+01\n",
      "  4.78246634e+02 -1.72566345e+01 -4.07760696e+02  5.66439332e+01]\n",
      "3.900000000001033 169.49999999999997\n",
      "-5.72760290505393 1.0185965099107702e-08\n"
     ]
    }
   ],
   "source": [
    "import pandas as pd\n",
    "import statistics\n",
    "from scipy import stats\n",
    "from scipy.stats import ttest_1samp\n",
    "from statsmodels.stats import weightstats as stests\n",
    "\n",
    "# GENERATE DATA with mean 169.5 and Standard Deviation 168\n",
    "mu, sigma = 169.5, 3.9 # mean and standard deviation\n",
    "# np.random.seed(50)\n",
    "s = np.random.normal(mu, sigma, 36)\n",
    "group_standardised = (s - s.mean()) / s.std()\n",
    "# print(group_standardised.std(),group_standardised.mean())\n",
    "\n",
    "desired_std = mu\n",
    "desired_mean = sigma\n",
    "group_scaled = group_standardised * desired_std + desired_mean\n",
    "print(group_scaled.std(),group_scaled.mean())\n",
    "print (group_scaled)\n",
    "print (group_scaled.mean(), group_scaled.std())\n",
    "\n",
    "ztest, pval = stests.ztest(x1 = group_scaled, value = 168, alternative='two-sided')\n",
    "print (ztest, pval)\n",
    "\n",
    "# t, pval_t = ttest_1samp(s, 168)\n",
    "# print (t, pval_t)"
   ]
  },
  {
   "cell_type": "code",
   "execution_count": 3,
   "id": "39dda520",
   "metadata": {},
   "outputs": [
    {
     "name": "stdout",
     "output_type": "stream",
     "text": [
      "[ 3.20973278e-03  1.48966256e-03  1.89384129e-03 -4.85815476e-03\n",
      " -1.71208147e-03  2.39924072e-03  3.34867337e-03 -1.44620261e-03\n",
      "  2.25774210e-03  2.01603617e-03  1.80865252e-03 -2.33527205e-04\n",
      " -9.80041977e-04 -1.10591984e-03 -2.19875665e-03  1.61428792e-03\n",
      "  8.89512998e-04  4.91908138e-03  3.62777170e-03  2.01592106e-03\n",
      "  5.78384747e-04 -6.97425697e-03  3.80033065e-03  4.33194552e-03\n",
      "  3.91653085e-04  6.74923222e-04  7.27456572e-04  4.89046610e-03\n",
      "  1.32194588e-03 -4.16737181e-03 -1.21373289e-03 -1.76144871e-03\n",
      "  3.33216587e-03  6.14959500e-03 -1.33734490e-03 -3.03247555e-03\n",
      "  2.31767430e-03 -2.87775184e-03  1.82403335e-03 -1.84131635e-03\n",
      "  1.53773489e-04  1.80242696e-03 -5.05770045e-04  4.86182090e-03\n",
      "  2.61758521e-03  2.48304303e-03  2.09506124e-03  4.39447254e-03\n",
      "  4.01127819e-03  4.37949047e-03  2.23359309e-03 -5.76091312e-03\n",
      " -3.87964492e-04  1.00377140e-03  3.14273454e-03  4.70285912e-03\n",
      "  4.50847194e-04  4.75849539e-03 -2.70596263e-03 -1.14041055e-03\n",
      " -1.07173193e-03  1.28511901e-03  2.31932118e-03  1.38959556e-03\n",
      "  4.25357350e-03 -1.48700477e-03  6.23666335e-03  1.89857248e-03\n",
      "  2.72750530e-03 -2.71429902e-03  1.24697154e-03  4.29197423e-04\n",
      " -1.13693872e-03 -2.82862765e-04 -1.40553996e-03 -2.06127278e-04\n",
      "  4.01325607e-04  2.14936057e-03  2.61607541e-03  2.21850740e-03\n",
      "  1.09548117e-03  3.47371640e-03  1.35905659e-03  2.87574482e-03\n",
      " -2.39285629e-05  4.61851762e-03 -1.13350599e-05  3.87231253e-03\n",
      " -1.34727623e-03 -3.75366013e-03  3.73858338e-03  1.66140533e-04\n",
      " -2.60462144e-03 -2.54166687e-03 -3.07375380e-03 -3.53813952e-03\n",
      " -1.64042250e-03  2.38568733e-03 -1.37504503e-03  3.14499838e-03\n",
      " -3.30198119e-04  3.81439714e-03  1.54664430e-03  1.77951058e-05\n",
      "  4.28256837e-04 -2.94063719e-03  1.41458252e-03  2.97199204e-03\n",
      " -3.90473061e-03 -3.63009561e-03  3.72971653e-03  3.33647714e-03\n",
      " -7.79463892e-04  4.60770752e-03  2.88078330e-03 -2.33730192e-03\n",
      "  2.69159918e-03  3.07776445e-03  8.73563898e-05  2.24192561e-03\n",
      "  1.72389788e-03 -1.75523358e-04  5.01498160e-03  6.15845423e-04\n",
      " -3.46542159e-03  7.20856753e-04  4.84410993e-03 -1.57908130e-03\n",
      "  7.35467369e-04  6.02475403e-03  1.02807835e-03 -1.72357367e-03\n",
      " -2.78627741e-03 -3.99403268e-04  3.10405630e-03  1.62888223e-03\n",
      "  3.06296156e-03  5.55551359e-03  1.84531587e-03  1.27265695e-03\n",
      "  1.87122216e-03  2.12279537e-03 -1.78685156e-03 -1.30801839e-03\n",
      "  1.05342260e-03  2.48603858e-03  5.56785382e-03 -1.71625943e-03\n",
      "  3.64610523e-03  2.86791273e-03  2.52479451e-03  8.06930616e-04\n",
      " -3.85316573e-03  1.85358677e-03  5.65713784e-03  2.61923813e-04\n",
      "  2.19579126e-03 -7.87976239e-04  4.09323232e-03  3.10097162e-03\n",
      "  2.81031820e-03  5.49601737e-04  1.38144797e-03  4.07485734e-03\n",
      "  1.68019222e-03  1.18768503e-03  1.21704818e-03 -5.28838569e-03\n",
      "  5.62510970e-03  5.60483858e-04  3.25865750e-03 -2.86289837e-03\n",
      "  4.60369474e-03  1.67208057e-03  2.07263509e-03  2.09097100e-03\n",
      " -9.56504905e-05  4.55124613e-03  5.88858025e-03  2.10614583e-05\n",
      "  1.30180552e-03  2.03506274e-03  4.41626431e-03 -2.40804996e-03\n",
      "  1.03913415e-03  3.26165053e-03 -1.01725273e-03 -7.65775884e-04\n",
      "  3.63222979e-03  7.66321784e-04 -2.59737635e-03  2.21827724e-04\n",
      "  3.01417310e-03  9.68622653e-04  3.47942727e-04 -1.22369434e-03\n",
      " -3.03974803e-03 -1.12991151e-03  8.97049641e-04  3.24182746e-04\n",
      " -2.75994456e-03  4.28491958e-03  9.24684736e-04  2.58753269e-03\n",
      "  2.25608808e-03  3.90491478e-03  2.35629275e-04  5.28070692e-03\n",
      "  3.92359249e-03  3.10462817e-04 -5.27945177e-03 -4.31795373e-05\n",
      "  2.35393114e-03  6.37231746e-04 -1.55395683e-03  2.18069493e-03\n",
      " -7.70308758e-04  4.53534870e-03 -2.26332897e-04  3.95292717e-03\n",
      "  8.82687215e-04 -2.65026544e-03 -2.70478747e-04 -2.38039405e-04\n",
      "  2.90446524e-03 -3.11710936e-03  3.13481589e-03  9.80100177e-04\n",
      " -1.22368795e-03  1.88376908e-03 -3.48576907e-04  2.47783186e-03\n",
      "  7.04266271e-04  9.88175709e-05 -1.67158029e-03  3.22679347e-03\n",
      "  1.58812900e-03  7.68600523e-04 -2.77657956e-04  2.48455669e-03\n",
      " -9.35187082e-04 -1.67730601e-03 -5.67343343e-04 -1.69340784e-03\n",
      "  4.19244960e-03  1.86615333e-03  6.94210150e-04  1.54792393e-03\n",
      "  1.35866769e-03  4.58711191e-03]\n",
      "6.363134471298099 1.9767747950952623e-10\n"
     ]
    }
   ],
   "source": [
    "import pandas as pd\n",
    "import statistics\n",
    "from scipy import stats\n",
    "from statsmodels.stats import weightstats as stests\n",
    "\n",
    "# GENERATE DATA with mean 169.5 and Standard Deviation 168\n",
    "mu, sigma = 0.001, 0.0025 # mean and standard deviation\n",
    "np.random.seed(20)\n",
    "s = np.random.normal(mu, sigma, 250)\n",
    "print (s)\n",
    "group_standardised = (s - s.mean()) / s.std()\n",
    "# print(group_standardised.std(),group_standardised.mean())\n",
    "\n",
    "desired_std = mu\n",
    "desired_mean = sigma\n",
    "group_scaled = group_standardised * desired_std + desired_mean\n",
    "\n",
    "\n",
    "# print (s.mean(), s.std())\n",
    "\n",
    "ztest, pval = stests.ztest(x1 = s, value = 0, alternative='two-sided')\n",
    "print (ztest, pval)"
   ]
  },
  {
   "cell_type": "markdown",
   "id": "a9f4c41c",
   "metadata": {},
   "source": [
    "# ASSIGNMENT"
   ]
  },
  {
   "cell_type": "code",
   "execution_count": 25,
   "id": "6d0ece6d",
   "metadata": {},
   "outputs": [
    {
     "name": "stdout",
     "output_type": "stream",
     "text": [
      "0.0025 0.001\n",
      "[ 2.06479019e-04  1.12226379e-03 -1.81740704e-03 -5.81270405e-03\n",
      "  3.51274584e-03 -9.77689537e-05  5.18276848e-03 -6.16277908e-04\n",
      "  2.66457462e-03  3.91479011e-03  1.64982577e-03  2.86815943e-03\n",
      " -4.39165845e-04  6.46225767e-04  1.27435556e-03 -2.09530927e-03\n",
      "  1.45310039e-03  5.53106556e-04  3.60039829e-04  6.32945867e-03\n",
      " -1.52882495e-03  4.21444231e-03 -2.84585170e-03  1.20148971e-03\n",
      "  3.07978760e-03 -5.12789139e-04  3.56988765e-04  2.62156543e-03\n",
      "  4.74401058e-04 -4.46715934e-03 -2.87864687e-03  4.04570560e-03\n",
      "  3.71819446e-03 -3.28438180e-05  3.85505876e-03  1.89249660e-03\n",
      " -3.45177369e-03  5.63512071e-04 -2.77187488e-03 -2.33059865e-03\n",
      " -7.30793285e-04 -2.74026929e-04 -2.27975092e-04 -6.61145777e-04\n",
      "  2.14935703e-03 -3.26201294e-03  4.60340171e-03  2.17980355e-03\n",
      "  2.80819996e-03  1.25111964e-03  1.12084784e-03  4.21243058e-04\n",
      "  2.25170561e-03 -2.15064726e-03 -2.46728099e-03  3.39478652e-04\n",
      "  1.85105136e-04  2.37937037e-03 -7.02518250e-04  3.81116422e-03\n",
      " -3.94851955e-04  1.76807351e-03  1.68877220e-03  3.66163104e-03\n",
      "  1.34676041e-03 -3.37215384e-04  4.54355805e-03 -2.68949367e-03\n",
      "  4.70275763e-04 -9.11073854e-05  1.14371412e-03  5.38415158e-04\n",
      " -1.48419688e-03  1.97806457e-03  1.03809108e-03  3.69338324e-03\n",
      "  7.43698796e-04  8.85261517e-04 -1.20916079e-03  3.65171962e-03\n",
      "  8.32351425e-04 -5.21497184e-03 -2.45680477e-03  2.23548007e-03\n",
      "  9.96128303e-04 -1.55824957e-03  8.25057892e-04  2.59610034e-03\n",
      "  2.15671536e-03 -3.93750180e-03  2.70221836e-03  1.88633632e-03\n",
      " -5.67814363e-05  4.15969096e-04 -2.18466410e-04  3.92444932e-03\n",
      " -3.95881221e-03  1.39702871e-03  6.06573665e-03  1.63157266e-03\n",
      "  3.94841061e-03 -4.13996591e-03  6.96729417e-04 -3.67571856e-04\n",
      "  1.22980361e-03 -1.14725504e-03  3.20171190e-03  3.84861337e-03\n",
      "  1.32395431e-03  4.83809755e-03  1.86378462e-03 -1.27156366e-03\n",
      " -2.03651092e-04  4.53144351e-03  8.19116130e-03  4.17241000e-03\n",
      "  4.69571161e-03  5.82970324e-03 -6.28931434e-04 -2.47754255e-03\n",
      "  1.49963452e-03  1.85675132e-03  2.45554922e-03 -3.20766297e-04\n",
      " -4.97041931e-03  2.16543772e-03  2.56434937e-03  1.82316499e-04\n",
      " -1.63568591e-03 -1.62697717e-03 -2.89779522e-03  1.28007570e-04\n",
      " -6.34888374e-04  7.93654084e-04 -2.31773185e-03 -7.01892436e-04\n",
      "  2.18838598e-03  6.62164832e-04  4.12097309e-03 -3.11436764e-04\n",
      "  1.22808598e-03 -6.37235984e-04  1.92715925e-03 -1.43572660e-03\n",
      "  1.60577799e-03 -1.12175287e-03  2.94791292e-03  2.09753535e-03\n",
      "  2.35151772e-03  2.19132807e-03  1.23024745e-03  4.59250670e-05\n",
      " -2.18148719e-05 -6.26046315e-04  5.26099828e-03 -3.86417504e-03\n",
      "  3.96706194e-03 -2.19411648e-03  1.77603503e-03  5.25060578e-04\n",
      " -7.54932094e-03 -9.59674139e-04  6.20088021e-03  2.10348976e-03\n",
      "  1.49426114e-03  4.76200486e-04  8.53034818e-04  3.41520160e-03\n",
      "  1.23201694e-03  1.99494841e-03 -5.41720367e-04 -1.90332679e-03\n",
      "  1.09213383e-03  1.72903100e-03  2.00002208e-03  3.69823980e-04\n",
      " -1.69617551e-03  7.32553818e-03  1.73626983e-03  2.03684027e-03\n",
      "  2.90979394e-03 -3.73721303e-03  1.20677672e-03  4.16441978e-03\n",
      "  2.90405908e-03 -2.49504705e-03  1.12670657e-03  5.45821613e-03\n",
      "  1.89511090e-03  1.94868698e-03  2.77831147e-04  7.55862345e-04\n",
      "  5.18633052e-04  5.09067636e-03  7.77760384e-04 -1.53345093e-03\n",
      "  1.53297433e-03 -4.01809020e-04  3.29497764e-03 -2.45204375e-03\n",
      " -4.65249007e-04  6.44850365e-04  3.56778742e-04  2.34638472e-03\n",
      "  3.57736209e-04  1.46378748e-03  1.33013357e-03  2.72296952e-03\n",
      "  1.39297866e-03  3.52456487e-03  4.01810553e-03  8.99526073e-05\n",
      "  1.99320640e-03  2.15580708e-03 -1.10168491e-03  5.10423474e-03\n",
      "  8.52174446e-04  6.01427891e-04  1.56633984e-03  5.32006227e-03\n",
      "  1.21127984e-03 -1.67620942e-03  2.07802632e-03  1.02704414e-03\n",
      "  8.48511124e-03 -3.67428250e-05 -1.13796309e-03  2.84737315e-03\n",
      "  9.13549686e-04  3.38586555e-03 -1.23348460e-03  4.57334354e-03\n",
      " -3.28914241e-03 -2.36641055e-03  6.04957326e-03  1.53350590e-03\n",
      "  2.80685128e-03 -7.82970901e-04 -2.90099264e-04  1.61342072e-03\n",
      "  2.00154643e-03  3.23737963e-03  3.91934120e-03 -1.90820037e-03\n",
      "  3.23699429e-03 -6.57676929e-04 -4.94499823e-04  2.59363411e-03\n",
      "  4.23402328e-03  3.14231506e-04]\n",
      "0.001 0.0025\n",
      "P VALUE IS  2.7564183415326194e-10  z value is  6.3118935352238\n",
      "Reject Null Hypothesis\n"
     ]
    }
   ],
   "source": [
    "'''Write a Python Function which takes the parameters required for Z/T test and then\n",
    "returns, whether to reject or fail to reject null hypothesis. Use the questions\n",
    "discussed in class to test your code.'''\n",
    "\n",
    "def hypothesis_test(Hypothesis_Null, Alpha, Sample_Size, mu, sigma,tails, population_mean_available=False):\n",
    "    if population_mean_available:\n",
    "        sigma = sigma/(Sample_Size**0.5)\n",
    "        print ('Sigma is ',sigma)\n",
    "    s = np.random.normal(mu, sigma, Sample_Size)\n",
    "    group_standardised = (s - s.mean()) / s.std()\n",
    "    group_scaled = group_standardised * sigma + mu\n",
    "    print(group_scaled.std(),group_scaled.mean())\n",
    "    print (group_scaled)\n",
    "    print (group_scaled.mean(), group_scaled.std())\n",
    "    ztest, pval = stests.ztest(x1 = group_scaled, value = Hypothesis_Null, alternative=tails)\n",
    "    print ('P VALUE IS ',pval,' z value is ',ztest)\n",
    "    if pval < Alpha:\n",
    "        return 0\n",
    "    else:\n",
    "        return 1\n",
    "'''\n",
    "A researcher has agreed upon a data on a daily return of portfolio of call option over a\n",
    "recent 250 days period. The mean daily return has been 0.1% and the standard deviation of\n",
    "daily return portfolio is 0.25%.\n",
    "The researchers believe that mean daily portfolio return is not 0. Construct a hypothesis test\n",
    "of researcher’s belief at 95% Confidence Interval\n",
    "'''\n",
    "Hypothesis_Null = 0\n",
    "Alpha = 0.05\n",
    "Sample_Size = 250\n",
    "mu = 0.001\n",
    "sigma = 0.0025\n",
    "hypothesis_test_result = hypothesis_test(Hypothesis_Null, Alpha, Sample_Size, mu, sigma,'two-sided')\n",
    "if hypothesis_test_result:\n",
    "    print ('Accept Null Hypothesis')\n",
    "else:\n",
    "    print ('Reject Null Hypothesis')\n",
    "    \n",
    "\n",
    "\n",
    "\n",
    "\n"
   ]
  },
  {
   "cell_type": "code",
   "execution_count": 27,
   "id": "928d3a0f",
   "metadata": {},
   "outputs": [
    {
     "name": "stdout",
     "output_type": "stream",
     "text": [
      ">>>>>>>>>>>>>>>>PRINCIPALS CLAIM<<<<<<<<<<<<<<<\n",
      "15.000000000000002 112.49999999999999\n",
      "[125.51717906 110.45052632 117.45807183 110.7284101  114.92113138\n",
      " 123.57646119 107.09131178 108.04314225  94.01027649 129.67777001\n",
      "  97.61075024 102.09698811 123.63121979 124.84398923 118.60420873\n",
      "  92.66683619 104.89618433 129.86095748 104.24158892 132.42961919\n",
      " 105.46725042 124.47043879  66.10693823 102.69141888 106.19607373\n",
      " 105.48740949 136.1070659   98.92851157 122.15643757 135.03183279]\n",
      "112.49999999999999 15.000000000000002\n",
      "P VALUE IS  3.6008692878552295e-06  z value is  4.487637339278748\n",
      "Reject Null Hypothesis\n"
     ]
    }
   ],
   "source": [
    "print ('>>>>>>>>>>>>>>>>PRINCIPALS CLAIM<<<<<<<<<<<<<<<')\n",
    "\n",
    "'''\n",
    "A principal at a school claims that the students in his school are above average in terms\n",
    "of intelligence. A random sample of 30 students’ IQ scores have a mean of 112.5. The mean\n",
    "population IQ is 100 with STD of 15. Test the hypothesis of principal’s claim.\n",
    "'''\n",
    "Hypothesis_Null = 100\n",
    "Alpha = 0.05\n",
    "Sample_Size = 30\n",
    "mu = 112.5\n",
    "sigma = 15\n",
    "hypothesis_test_result = hypothesis_test(Hypothesis_Null, Alpha, Sample_Size, mu, sigma,'larger', False)\n",
    "if hypothesis_test_result:\n",
    "    print ('Accept Null Hypothesis')\n",
    "else:\n",
    "    print ('Reject Null Hypothesis')"
   ]
  },
  {
   "cell_type": "code",
   "execution_count": 29,
   "id": "71c77f3b",
   "metadata": {},
   "outputs": [
    {
     "name": "stdout",
     "output_type": "stream",
     "text": [
      "3.8999999999999995 169.49999999999997\n",
      "[162.2390193  168.87847785 172.06594581 173.2926967  164.04615653\n",
      " 169.99724103 166.9282151  173.56204425 169.77094069 173.93619832\n",
      " 169.93609395 170.95386128 171.90266432 177.54881255 162.95895928\n",
      " 167.57341217 172.01170331 174.9918554  164.43674407 170.48121686\n",
      " 167.6674255  163.47303831 166.8960826  165.27856666 172.72304934\n",
      " 171.75158248 169.58195959 169.95262251 159.81789721 170.78206609\n",
      " 175.39056125 170.58032312 170.12848538 172.01893083 169.4453416\n",
      " 168.99980876]\n",
      "169.49999999999997 3.8999999999999995\n",
      "P VALUE IS  0.022881028338973434  z value is  2.275415301192117\n",
      "Reject Null Hypothesis\n"
     ]
    }
   ],
   "source": [
    "'''\n",
    "The average weights of students of my class is 168 lbs. A nutritionist believes that the\n",
    "mean is different. She measured the weights of 36 students and found that the mean to be\n",
    "169.5 lbs with a std of 3.9. AT 95% confidence, is there enough evidence to discard the null\n",
    "hypothesis?\n",
    "'''\n",
    "\n",
    "Hypothesis_Null = 168\n",
    "Alpha = 0.05\n",
    "Sample_Size = 36\n",
    "mu = 169.5\n",
    "sigma = 3.9\n",
    "hypothesis_test_result = hypothesis_test(Hypothesis_Null, Alpha, Sample_Size, mu, sigma,'two-sided', False)\n",
    "if hypothesis_test_result:\n",
    "    print ('Accept Null Hypothesis')\n",
    "else:\n",
    "    print ('Reject Null Hypothesis')\n"
   ]
  },
  {
   "cell_type": "code",
   "execution_count": 59,
   "id": "645f9750",
   "metadata": {},
   "outputs": [
    {
     "name": "stdout",
     "output_type": "stream",
     "text": [
      "[[1 1 1 1 1 1 1 1 1]\n",
      " [2 2 2 2 2 2 2 2 2]\n",
      " [3 3 3 3 3 3 3 3 3]\n",
      " [4 4 4 4 4 4 4 4 4]\n",
      " [5 5 5 5 5 5 5 5 5]\n",
      " [6 6 6 6 6 6 6 6 6]\n",
      " [7 7 7 7 7 7 7 7 7]\n",
      " [8 8 8 8 8 8 8 8 8]\n",
      " [9 9 9 9 9 9 9 9 9]]\n"
     ]
    }
   ],
   "source": [
    "'''Write a Python code to return matrix multiplication result (Also implement the\n",
    "exception handling – should throw an error if the size is not perfect).\n",
    "Remember the Matrix Multiplication size requirement. (m x n, n x p)'''\n",
    "\n",
    "a = np.array([1,2,3,4,5,6,7,8,9]).reshape(9,-1)\n",
    "b = np.array([1,1,1,1,1,1,1,1,1]).reshape(1,-1)\n",
    "prod_mat= []\n",
    "\n",
    "def mat_mul(mat1, mat2):\n",
    "    \n",
    "    try:\n",
    "        assert(mat1.shape[1] == mat2.shape[0])\n",
    "        for row in mat1:\n",
    "            for col in mat2.T:\n",
    "                prod_mat.append(sum([(x*y) for x,y in zip(row,col)]))\n",
    "        return (np.array(prod_mat).reshape(mat1.shape[0],mat2.shape[1]))\n",
    "    except AssertionError as err:\n",
    "         print ('Please check the shapes of the input matrices')\n",
    "print (mat_mul(a,b))\n",
    "# for val in a:\n",
    "#     print ('<<>>')\n",
    "#     print (val)"
   ]
  },
  {
   "cell_type": "markdown",
   "id": "e2e15d91",
   "metadata": {},
   "source": [
    "# ANALYSIS OF WINE DATA"
   ]
  },
  {
   "cell_type": "code",
   "execution_count": 16,
   "id": "4c6ace68",
   "metadata": {},
   "outputs": [],
   "source": [
    "import pandas as pd\n",
    "import numpy as np\n",
    "import seaborn as sns\n",
    "wine_data = pd.read_csv('wine.data',header=None,names=[\"Alcohol\",\"Malic acid\",\"Ash\",\"Alcalinity of ash\",\"Magnesium\",\"Total phenols\",\"Flavanoids\",\"Nonflavanoid phenols\",\"Proanthocyanins\",\"Color intensity\",\"Hue\",\"OD280/OD315 of diluted wines\",\"Proline\"])"
   ]
  },
  {
   "cell_type": "code",
   "execution_count": 17,
   "id": "aca5cb15",
   "metadata": {},
   "outputs": [
    {
     "data": {
      "text/html": [
       "<div>\n",
       "<style scoped>\n",
       "    .dataframe tbody tr th:only-of-type {\n",
       "        vertical-align: middle;\n",
       "    }\n",
       "\n",
       "    .dataframe tbody tr th {\n",
       "        vertical-align: top;\n",
       "    }\n",
       "\n",
       "    .dataframe thead th {\n",
       "        text-align: right;\n",
       "    }\n",
       "</style>\n",
       "<table border=\"1\" class=\"dataframe\">\n",
       "  <thead>\n",
       "    <tr style=\"text-align: right;\">\n",
       "      <th></th>\n",
       "      <th>Alcohol</th>\n",
       "      <th>Malic acid</th>\n",
       "      <th>Ash</th>\n",
       "      <th>Alcalinity of ash</th>\n",
       "      <th>Magnesium</th>\n",
       "      <th>Total phenols</th>\n",
       "      <th>Flavanoids</th>\n",
       "      <th>Nonflavanoid phenols</th>\n",
       "      <th>Proanthocyanins</th>\n",
       "      <th>Color intensity</th>\n",
       "      <th>Hue</th>\n",
       "      <th>OD280/OD315 of diluted wines</th>\n",
       "      <th>Proline</th>\n",
       "    </tr>\n",
       "  </thead>\n",
       "  <tbody>\n",
       "    <tr>\n",
       "      <th>1</th>\n",
       "      <td>14.23</td>\n",
       "      <td>1.71</td>\n",
       "      <td>2.43</td>\n",
       "      <td>15.6</td>\n",
       "      <td>127</td>\n",
       "      <td>2.80</td>\n",
       "      <td>3.06</td>\n",
       "      <td>0.28</td>\n",
       "      <td>2.29</td>\n",
       "      <td>5.64</td>\n",
       "      <td>1.04</td>\n",
       "      <td>3.92</td>\n",
       "      <td>1065</td>\n",
       "    </tr>\n",
       "    <tr>\n",
       "      <th>1</th>\n",
       "      <td>13.20</td>\n",
       "      <td>1.78</td>\n",
       "      <td>2.14</td>\n",
       "      <td>11.2</td>\n",
       "      <td>100</td>\n",
       "      <td>2.65</td>\n",
       "      <td>2.76</td>\n",
       "      <td>0.26</td>\n",
       "      <td>1.28</td>\n",
       "      <td>4.38</td>\n",
       "      <td>1.05</td>\n",
       "      <td>3.40</td>\n",
       "      <td>1050</td>\n",
       "    </tr>\n",
       "    <tr>\n",
       "      <th>1</th>\n",
       "      <td>13.16</td>\n",
       "      <td>2.36</td>\n",
       "      <td>2.67</td>\n",
       "      <td>18.6</td>\n",
       "      <td>101</td>\n",
       "      <td>2.80</td>\n",
       "      <td>3.24</td>\n",
       "      <td>0.30</td>\n",
       "      <td>2.81</td>\n",
       "      <td>5.68</td>\n",
       "      <td>1.03</td>\n",
       "      <td>3.17</td>\n",
       "      <td>1185</td>\n",
       "    </tr>\n",
       "    <tr>\n",
       "      <th>1</th>\n",
       "      <td>14.37</td>\n",
       "      <td>1.95</td>\n",
       "      <td>2.50</td>\n",
       "      <td>16.8</td>\n",
       "      <td>113</td>\n",
       "      <td>3.85</td>\n",
       "      <td>3.49</td>\n",
       "      <td>0.24</td>\n",
       "      <td>2.18</td>\n",
       "      <td>7.80</td>\n",
       "      <td>0.86</td>\n",
       "      <td>3.45</td>\n",
       "      <td>1480</td>\n",
       "    </tr>\n",
       "    <tr>\n",
       "      <th>1</th>\n",
       "      <td>13.24</td>\n",
       "      <td>2.59</td>\n",
       "      <td>2.87</td>\n",
       "      <td>21.0</td>\n",
       "      <td>118</td>\n",
       "      <td>2.80</td>\n",
       "      <td>2.69</td>\n",
       "      <td>0.39</td>\n",
       "      <td>1.82</td>\n",
       "      <td>4.32</td>\n",
       "      <td>1.04</td>\n",
       "      <td>2.93</td>\n",
       "      <td>735</td>\n",
       "    </tr>\n",
       "  </tbody>\n",
       "</table>\n",
       "</div>"
      ],
      "text/plain": [
       "   Alcohol  Malic acid   Ash  Alcalinity of ash  Magnesium  Total phenols  \\\n",
       "1    14.23        1.71  2.43               15.6        127           2.80   \n",
       "1    13.20        1.78  2.14               11.2        100           2.65   \n",
       "1    13.16        2.36  2.67               18.6        101           2.80   \n",
       "1    14.37        1.95  2.50               16.8        113           3.85   \n",
       "1    13.24        2.59  2.87               21.0        118           2.80   \n",
       "\n",
       "   Flavanoids  Nonflavanoid phenols  Proanthocyanins  Color intensity   Hue  \\\n",
       "1        3.06                  0.28             2.29             5.64  1.04   \n",
       "1        2.76                  0.26             1.28             4.38  1.05   \n",
       "1        3.24                  0.30             2.81             5.68  1.03   \n",
       "1        3.49                  0.24             2.18             7.80  0.86   \n",
       "1        2.69                  0.39             1.82             4.32  1.04   \n",
       "\n",
       "   OD280/OD315 of diluted wines  Proline  \n",
       "1                          3.92     1065  \n",
       "1                          3.40     1050  \n",
       "1                          3.17     1185  \n",
       "1                          3.45     1480  \n",
       "1                          2.93      735  "
      ]
     },
     "execution_count": 17,
     "metadata": {},
     "output_type": "execute_result"
    }
   ],
   "source": [
    "wine_data.head()"
   ]
  },
  {
   "cell_type": "code",
   "execution_count": 20,
   "id": "3e3b5337",
   "metadata": {},
   "outputs": [],
   "source": [
    "wine_data_sliced = wine_data[['Ash','Alcohol','Hue']]\n",
    "corr_mat = np.corrcoef(wine_data_sliced[['Ash','Alcohol','Hue']],rowvar=False)"
   ]
  },
  {
   "cell_type": "code",
   "execution_count": 21,
   "id": "630d313e",
   "metadata": {},
   "outputs": [
    {
     "data": {
      "text/plain": [
       "array([[ 1.        ,  0.2115446 , -0.07466689],\n",
       "       [ 0.2115446 ,  1.        , -0.0717472 ],\n",
       "       [-0.07466689, -0.0717472 ,  1.        ]])"
      ]
     },
     "execution_count": 21,
     "metadata": {},
     "output_type": "execute_result"
    }
   ],
   "source": [
    "cov_mat"
   ]
  },
  {
   "cell_type": "code",
   "execution_count": 22,
   "id": "a63c8879",
   "metadata": {},
   "outputs": [
    {
     "data": {
      "text/plain": [
       "<AxesSubplot:>"
      ]
     },
     "execution_count": 22,
     "metadata": {},
     "output_type": "execute_result"
    },
    {
     "data": {
      "image/png": "[encoded data removed]",
      "text/plain": [
       "<Figure size 432x288 with 2 Axes>"
      ]
     },
     "metadata": {
      "needs_background": "light"
     },
     "output_type": "display_data"
    }
   ],
   "source": [
    "sns.heatmap(cov_mat,annot=True)"
   ]
  },
  {
   "cell_type": "markdown",
   "id": "17a573b7",
   "metadata": {},
   "source": [
    "# NEWZEALAND GOVERNMENT DATA"
   ]
  },
  {
   "cell_type": "code",
   "execution_count": 23,
   "id": "066fc168",
   "metadata": {},
   "outputs": [],
   "source": [
    "injury_data = pd.read_csv(\"D:\\learnbay\\statistics_git\\stats_code\\dataset\\serious-injury-outcome-indicators-2000-2020-CSV.csv\")"
   ]
  },
  {
   "cell_type": "code",
   "execution_count": 24,
   "id": "c0c407c3",
   "metadata": {},
   "outputs": [
    {
     "data": {
      "text/html": [
       "<div>\n",
       "<style scoped>\n",
       "    .dataframe tbody tr th:only-of-type {\n",
       "        vertical-align: middle;\n",
       "    }\n",
       "\n",
       "    .dataframe tbody tr th {\n",
       "        vertical-align: top;\n",
       "    }\n",
       "\n",
       "    .dataframe thead th {\n",
       "        text-align: right;\n",
       "    }\n",
       "</style>\n",
       "<table border=\"1\" class=\"dataframe\">\n",
       "  <thead>\n",
       "    <tr style=\"text-align: right;\">\n",
       "      <th></th>\n",
       "      <th>Data_value</th>\n",
       "      <th>Lower_CI</th>\n",
       "      <th>Upper_CI</th>\n",
       "    </tr>\n",
       "  </thead>\n",
       "  <tbody>\n",
       "    <tr>\n",
       "      <th>count</th>\n",
       "      <td>2748.000000</td>\n",
       "      <td>2748.000000</td>\n",
       "      <td>2748.000000</td>\n",
       "    </tr>\n",
       "    <tr>\n",
       "      <th>mean</th>\n",
       "      <td>490.517951</td>\n",
       "      <td>464.676049</td>\n",
       "      <td>516.359854</td>\n",
       "    </tr>\n",
       "    <tr>\n",
       "      <th>std</th>\n",
       "      <td>1407.607086</td>\n",
       "      <td>1375.839232</td>\n",
       "      <td>1439.777285</td>\n",
       "    </tr>\n",
       "    <tr>\n",
       "      <th>min</th>\n",
       "      <td>0.713333</td>\n",
       "      <td>0.191677</td>\n",
       "      <td>0.801232</td>\n",
       "    </tr>\n",
       "    <tr>\n",
       "      <th>25%</th>\n",
       "      <td>15.380863</td>\n",
       "      <td>13.279127</td>\n",
       "      <td>17.368272</td>\n",
       "    </tr>\n",
       "    <tr>\n",
       "      <th>50%</th>\n",
       "      <td>63.000000</td>\n",
       "      <td>50.923845</td>\n",
       "      <td>72.926641</td>\n",
       "    </tr>\n",
       "    <tr>\n",
       "      <th>75%</th>\n",
       "      <td>308.000000</td>\n",
       "      <td>273.602772</td>\n",
       "      <td>342.397228</td>\n",
       "    </tr>\n",
       "    <tr>\n",
       "      <th>max</th>\n",
       "      <td>14141.000000</td>\n",
       "      <td>13907.929047</td>\n",
       "      <td>14374.070953</td>\n",
       "    </tr>\n",
       "  </tbody>\n",
       "</table>\n",
       "</div>"
      ],
      "text/plain": [
       "         Data_value      Lower_CI      Upper_CI\n",
       "count   2748.000000   2748.000000   2748.000000\n",
       "mean     490.517951    464.676049    516.359854\n",
       "std     1407.607086   1375.839232   1439.777285\n",
       "min        0.713333      0.191677      0.801232\n",
       "25%       15.380863     13.279127     17.368272\n",
       "50%       63.000000     50.923845     72.926641\n",
       "75%      308.000000    273.602772    342.397228\n",
       "max    14141.000000  13907.929047  14374.070953"
      ]
     },
     "execution_count": 24,
     "metadata": {},
     "output_type": "execute_result"
    }
   ],
   "source": [
    "injury_data.describe()"
   ]
  },
  {
   "cell_type": "code",
   "execution_count": 25,
   "id": "c23dd977",
   "metadata": {},
   "outputs": [
    {
     "name": "stdout",
     "output_type": "stream",
     "text": [
      "<class 'pandas.core.frame.DataFrame'>\n",
      "RangeIndex: 2748 entries, 0 to 2747\n",
      "Data columns (total 13 columns):\n",
      " #   Column            Non-Null Count  Dtype  \n",
      "---  ------            --------------  -----  \n",
      " 0   Series_reference  2748 non-null   object \n",
      " 1   Period            2748 non-null   object \n",
      " 2   Type              2748 non-null   object \n",
      " 3   Data_value        2748 non-null   float64\n",
      " 4   Lower_CI          2748 non-null   float64\n",
      " 5   Upper_CI          2748 non-null   float64\n",
      " 6   Units             2748 non-null   object \n",
      " 7   Indicator         2748 non-null   object \n",
      " 8   Cause             2748 non-null   object \n",
      " 9   Validation        2748 non-null   object \n",
      " 10  Population        2748 non-null   object \n",
      " 11  Age               2748 non-null   object \n",
      " 12  Severity          2748 non-null   object \n",
      "dtypes: float64(3), object(10)\n",
      "memory usage: 279.2+ KB\n"
     ]
    }
   ],
   "source": [
    "injury_data.info()"
   ]
  },
  {
   "cell_type": "code",
   "execution_count": 26,
   "id": "1c6c5af6",
   "metadata": {},
   "outputs": [
    {
     "data": {
      "text/html": [
       "<div>\n",
       "<style scoped>\n",
       "    .dataframe tbody tr th:only-of-type {\n",
       "        vertical-align: middle;\n",
       "    }\n",
       "\n",
       "    .dataframe tbody tr th {\n",
       "        vertical-align: top;\n",
       "    }\n",
       "\n",
       "    .dataframe thead th {\n",
       "        text-align: right;\n",
       "    }\n",
       "</style>\n",
       "<table border=\"1\" class=\"dataframe\">\n",
       "  <thead>\n",
       "    <tr style=\"text-align: right;\">\n",
       "      <th></th>\n",
       "      <th>Series_reference</th>\n",
       "      <th>Period</th>\n",
       "      <th>Type</th>\n",
       "      <th>Data_value</th>\n",
       "      <th>Lower_CI</th>\n",
       "      <th>Upper_CI</th>\n",
       "      <th>Units</th>\n",
       "      <th>Indicator</th>\n",
       "      <th>Cause</th>\n",
       "      <th>Validation</th>\n",
       "      <th>Population</th>\n",
       "      <th>Age</th>\n",
       "      <th>Severity</th>\n",
       "    </tr>\n",
       "  </thead>\n",
       "  <tbody>\n",
       "    <tr>\n",
       "      <th>0</th>\n",
       "      <td>W_A11</td>\n",
       "      <td>2000-02</td>\n",
       "      <td>Moving average</td>\n",
       "      <td>59.666667</td>\n",
       "      <td>50.925823</td>\n",
       "      <td>68.407510</td>\n",
       "      <td>Injuries</td>\n",
       "      <td>Number</td>\n",
       "      <td>Assault</td>\n",
       "      <td>Validated</td>\n",
       "      <td>Whole pop</td>\n",
       "      <td>All ages</td>\n",
       "      <td>Fatal</td>\n",
       "    </tr>\n",
       "    <tr>\n",
       "      <th>1</th>\n",
       "      <td>W_A11</td>\n",
       "      <td>2001-03</td>\n",
       "      <td>Moving average</td>\n",
       "      <td>60.000000</td>\n",
       "      <td>51.234775</td>\n",
       "      <td>68.765225</td>\n",
       "      <td>Injuries</td>\n",
       "      <td>Number</td>\n",
       "      <td>Assault</td>\n",
       "      <td>Validated</td>\n",
       "      <td>Whole pop</td>\n",
       "      <td>All ages</td>\n",
       "      <td>Fatal</td>\n",
       "    </tr>\n",
       "    <tr>\n",
       "      <th>2</th>\n",
       "      <td>W_A11</td>\n",
       "      <td>2002-04</td>\n",
       "      <td>Moving average</td>\n",
       "      <td>59.000000</td>\n",
       "      <td>50.308125</td>\n",
       "      <td>67.691875</td>\n",
       "      <td>Injuries</td>\n",
       "      <td>Number</td>\n",
       "      <td>Assault</td>\n",
       "      <td>Validated</td>\n",
       "      <td>Whole pop</td>\n",
       "      <td>All ages</td>\n",
       "      <td>Fatal</td>\n",
       "    </tr>\n",
       "    <tr>\n",
       "      <th>3</th>\n",
       "      <td>W_A11</td>\n",
       "      <td>2003-05</td>\n",
       "      <td>Moving average</td>\n",
       "      <td>59.000000</td>\n",
       "      <td>50.308125</td>\n",
       "      <td>67.691875</td>\n",
       "      <td>Injuries</td>\n",
       "      <td>Number</td>\n",
       "      <td>Assault</td>\n",
       "      <td>Validated</td>\n",
       "      <td>Whole pop</td>\n",
       "      <td>All ages</td>\n",
       "      <td>Fatal</td>\n",
       "    </tr>\n",
       "    <tr>\n",
       "      <th>4</th>\n",
       "      <td>W_A11</td>\n",
       "      <td>2004-06</td>\n",
       "      <td>Moving average</td>\n",
       "      <td>61.333333</td>\n",
       "      <td>52.471252</td>\n",
       "      <td>70.195415</td>\n",
       "      <td>Injuries</td>\n",
       "      <td>Number</td>\n",
       "      <td>Assault</td>\n",
       "      <td>Validated</td>\n",
       "      <td>Whole pop</td>\n",
       "      <td>All ages</td>\n",
       "      <td>Fatal</td>\n",
       "    </tr>\n",
       "  </tbody>\n",
       "</table>\n",
       "</div>"
      ],
      "text/plain": [
       "  Series_reference   Period            Type  Data_value   Lower_CI   Upper_CI  \\\n",
       "0            W_A11  2000-02  Moving average   59.666667  50.925823  68.407510   \n",
       "1            W_A11  2001-03  Moving average   60.000000  51.234775  68.765225   \n",
       "2            W_A11  2002-04  Moving average   59.000000  50.308125  67.691875   \n",
       "3            W_A11  2003-05  Moving average   59.000000  50.308125  67.691875   \n",
       "4            W_A11  2004-06  Moving average   61.333333  52.471252  70.195415   \n",
       "\n",
       "      Units Indicator    Cause Validation Population       Age Severity  \n",
       "0  Injuries    Number  Assault  Validated  Whole pop  All ages    Fatal  \n",
       "1  Injuries    Number  Assault  Validated  Whole pop  All ages    Fatal  \n",
       "2  Injuries    Number  Assault  Validated  Whole pop  All ages    Fatal  \n",
       "3  Injuries    Number  Assault  Validated  Whole pop  All ages    Fatal  \n",
       "4  Injuries    Number  Assault  Validated  Whole pop  All ages    Fatal  "
      ]
     },
     "execution_count": 26,
     "metadata": {},
     "output_type": "execute_result"
    }
   ],
   "source": [
    "injury_data.head()"
   ]
  },
  {
   "cell_type": "code",
   "execution_count": 29,
   "id": "59808084",
   "metadata": {},
   "outputs": [
    {
     "data": {
      "text/plain": [
       "<AxesSubplot:>"
      ]
     },
     "execution_count": 29,
     "metadata": {},
     "output_type": "execute_result"
    },
    {
     "data": {
      "image/png": "[encoded data removed]",
      "text/plain": [
       "<Figure size 432x288 with 2 Axes>"
      ]
     },
     "metadata": {
      "needs_background": "light"
     },
     "output_type": "display_data"
    }
   ],
   "source": [
    "sns.heatmap(injury_data[['Lower_CI','Units','Data_value']].corr(),annot=True)"
   ]
  },
  {
   "cell_type": "markdown",
   "id": "ab8014d6",
   "metadata": {},
   "source": [
    "# DEATHS IN 2020 IN USA "
   ]
  },
  {
   "cell_type": "code",
   "execution_count": 30,
   "id": "2f30e786",
   "metadata": {},
   "outputs": [],
   "source": [
    "deaths_data = pd.read_csv(\"D:\\learnbay\\statistics_git\\stats_code\\dataset\\AH_Provisional_Diabetes_Death_Counts_for_2020.csv\")"
   ]
  },
  {
   "cell_type": "code",
   "execution_count": 31,
   "id": "588d689d",
   "metadata": {},
   "outputs": [
    {
     "data": {
      "text/html": [
       "<div>\n",
       "<style scoped>\n",
       "    .dataframe tbody tr th:only-of-type {\n",
       "        vertical-align: middle;\n",
       "    }\n",
       "\n",
       "    .dataframe tbody tr th {\n",
       "        vertical-align: top;\n",
       "    }\n",
       "\n",
       "    .dataframe thead th {\n",
       "        text-align: right;\n",
       "    }\n",
       "</style>\n",
       "<table border=\"1\" class=\"dataframe\">\n",
       "  <thead>\n",
       "    <tr style=\"text-align: right;\">\n",
       "      <th></th>\n",
       "      <th>Data as of</th>\n",
       "      <th>Date_Of_Death_Year</th>\n",
       "      <th>Date_Of_Death_Month</th>\n",
       "      <th>AgeGroup</th>\n",
       "      <th>Sex</th>\n",
       "      <th>COVID19</th>\n",
       "      <th>Diabetes.uc</th>\n",
       "      <th>Diabetes.mc</th>\n",
       "      <th>C19PlusDiabetes</th>\n",
       "      <th>C19PlusHypertensiveDiseases</th>\n",
       "      <th>C19PlusMajorCardiovascularDiseases</th>\n",
       "      <th>C19PlusHypertensiveDiseasesAndMCVD</th>\n",
       "      <th>C19PlusChronicLowerRespiratoryDisease</th>\n",
       "      <th>C19PlusKidneyDisease</th>\n",
       "      <th>C19PlusChronicLiverDiseaseAndCirrhosis</th>\n",
       "      <th>C19PlusObesity</th>\n",
       "    </tr>\n",
       "  </thead>\n",
       "  <tbody>\n",
       "    <tr>\n",
       "      <th>0</th>\n",
       "      <td>10/20/2020</td>\n",
       "      <td>2020</td>\n",
       "      <td>1</td>\n",
       "      <td>&lt;18 years</td>\n",
       "      <td>Female (F)</td>\n",
       "      <td>0</td>\n",
       "      <td>3</td>\n",
       "      <td>5</td>\n",
       "      <td>0</td>\n",
       "      <td>0</td>\n",
       "      <td>0</td>\n",
       "      <td>0</td>\n",
       "      <td>0</td>\n",
       "      <td>0</td>\n",
       "      <td>0</td>\n",
       "      <td>0</td>\n",
       "    </tr>\n",
       "    <tr>\n",
       "      <th>1</th>\n",
       "      <td>10/20/2020</td>\n",
       "      <td>2020</td>\n",
       "      <td>1</td>\n",
       "      <td>&lt;18 years</td>\n",
       "      <td>Male (M)</td>\n",
       "      <td>0</td>\n",
       "      <td>3</td>\n",
       "      <td>3</td>\n",
       "      <td>0</td>\n",
       "      <td>0</td>\n",
       "      <td>0</td>\n",
       "      <td>0</td>\n",
       "      <td>0</td>\n",
       "      <td>0</td>\n",
       "      <td>0</td>\n",
       "      <td>0</td>\n",
       "    </tr>\n",
       "    <tr>\n",
       "      <th>2</th>\n",
       "      <td>10/20/2020</td>\n",
       "      <td>2020</td>\n",
       "      <td>1</td>\n",
       "      <td>18-29 years</td>\n",
       "      <td>Female (F)</td>\n",
       "      <td>0</td>\n",
       "      <td>20</td>\n",
       "      <td>36</td>\n",
       "      <td>0</td>\n",
       "      <td>0</td>\n",
       "      <td>0</td>\n",
       "      <td>0</td>\n",
       "      <td>0</td>\n",
       "      <td>0</td>\n",
       "      <td>0</td>\n",
       "      <td>0</td>\n",
       "    </tr>\n",
       "    <tr>\n",
       "      <th>3</th>\n",
       "      <td>10/20/2020</td>\n",
       "      <td>2020</td>\n",
       "      <td>1</td>\n",
       "      <td>18-29 years</td>\n",
       "      <td>Male (M)</td>\n",
       "      <td>0</td>\n",
       "      <td>44</td>\n",
       "      <td>65</td>\n",
       "      <td>0</td>\n",
       "      <td>0</td>\n",
       "      <td>0</td>\n",
       "      <td>0</td>\n",
       "      <td>0</td>\n",
       "      <td>0</td>\n",
       "      <td>0</td>\n",
       "      <td>0</td>\n",
       "    </tr>\n",
       "    <tr>\n",
       "      <th>4</th>\n",
       "      <td>10/20/2020</td>\n",
       "      <td>2020</td>\n",
       "      <td>1</td>\n",
       "      <td>30-39 years</td>\n",
       "      <td>Female (F)</td>\n",
       "      <td>0</td>\n",
       "      <td>53</td>\n",
       "      <td>104</td>\n",
       "      <td>0</td>\n",
       "      <td>0</td>\n",
       "      <td>0</td>\n",
       "      <td>0</td>\n",
       "      <td>0</td>\n",
       "      <td>0</td>\n",
       "      <td>0</td>\n",
       "      <td>0</td>\n",
       "    </tr>\n",
       "    <tr>\n",
       "      <th>...</th>\n",
       "      <td>...</td>\n",
       "      <td>...</td>\n",
       "      <td>...</td>\n",
       "      <td>...</td>\n",
       "      <td>...</td>\n",
       "      <td>...</td>\n",
       "      <td>...</td>\n",
       "      <td>...</td>\n",
       "      <td>...</td>\n",
       "      <td>...</td>\n",
       "      <td>...</td>\n",
       "      <td>...</td>\n",
       "      <td>...</td>\n",
       "      <td>...</td>\n",
       "      <td>...</td>\n",
       "      <td>...</td>\n",
       "    </tr>\n",
       "    <tr>\n",
       "      <th>221</th>\n",
       "      <td>10/20/2020</td>\n",
       "      <td>2020</td>\n",
       "      <td>9</td>\n",
       "      <td>75-84 years</td>\n",
       "      <td>Male (M)</td>\n",
       "      <td>2525</td>\n",
       "      <td>956</td>\n",
       "      <td>3925</td>\n",
       "      <td>385</td>\n",
       "      <td>434</td>\n",
       "      <td>1182</td>\n",
       "      <td>1182</td>\n",
       "      <td>276</td>\n",
       "      <td>292</td>\n",
       "      <td>7</td>\n",
       "      <td>52</td>\n",
       "    </tr>\n",
       "    <tr>\n",
       "      <th>222</th>\n",
       "      <td>10/20/2020</td>\n",
       "      <td>2020</td>\n",
       "      <td>9</td>\n",
       "      <td>80+ years</td>\n",
       "      <td>Female (F)</td>\n",
       "      <td>3847</td>\n",
       "      <td>1201</td>\n",
       "      <td>4809</td>\n",
       "      <td>426</td>\n",
       "      <td>785</td>\n",
       "      <td>1785</td>\n",
       "      <td>1785</td>\n",
       "      <td>318</td>\n",
       "      <td>255</td>\n",
       "      <td>7</td>\n",
       "      <td>31</td>\n",
       "    </tr>\n",
       "    <tr>\n",
       "      <th>223</th>\n",
       "      <td>10/20/2020</td>\n",
       "      <td>2020</td>\n",
       "      <td>9</td>\n",
       "      <td>80+ years</td>\n",
       "      <td>Male (M)</td>\n",
       "      <td>3277</td>\n",
       "      <td>1053</td>\n",
       "      <td>4387</td>\n",
       "      <td>394</td>\n",
       "      <td>580</td>\n",
       "      <td>1590</td>\n",
       "      <td>1590</td>\n",
       "      <td>340</td>\n",
       "      <td>331</td>\n",
       "      <td>6</td>\n",
       "      <td>16</td>\n",
       "    </tr>\n",
       "    <tr>\n",
       "      <th>224</th>\n",
       "      <td>10/20/2020</td>\n",
       "      <td>2020</td>\n",
       "      <td>9</td>\n",
       "      <td>85+ years</td>\n",
       "      <td>Female (F)</td>\n",
       "      <td>2778</td>\n",
       "      <td>806</td>\n",
       "      <td>3204</td>\n",
       "      <td>270</td>\n",
       "      <td>578</td>\n",
       "      <td>1295</td>\n",
       "      <td>1295</td>\n",
       "      <td>209</td>\n",
       "      <td>179</td>\n",
       "      <td>3</td>\n",
       "      <td>16</td>\n",
       "    </tr>\n",
       "    <tr>\n",
       "      <th>225</th>\n",
       "      <td>10/20/2020</td>\n",
       "      <td>2020</td>\n",
       "      <td>9</td>\n",
       "      <td>85+ years</td>\n",
       "      <td>Male (M)</td>\n",
       "      <td>2036</td>\n",
       "      <td>620</td>\n",
       "      <td>2571</td>\n",
       "      <td>229</td>\n",
       "      <td>363</td>\n",
       "      <td>985</td>\n",
       "      <td>985</td>\n",
       "      <td>195</td>\n",
       "      <td>189</td>\n",
       "      <td>3</td>\n",
       "      <td>4</td>\n",
       "    </tr>\n",
       "  </tbody>\n",
       "</table>\n",
       "<p>226 rows × 16 columns</p>\n",
       "</div>"
      ],
      "text/plain": [
       "     Data as of  Date_Of_Death_Year  Date_Of_Death_Month     AgeGroup  \\\n",
       "0    10/20/2020                2020                    1    <18 years   \n",
       "1    10/20/2020                2020                    1    <18 years   \n",
       "2    10/20/2020                2020                    1  18-29 years   \n",
       "3    10/20/2020                2020                    1  18-29 years   \n",
       "4    10/20/2020                2020                    1  30-39 years   \n",
       "..          ...                 ...                  ...          ...   \n",
       "221  10/20/2020                2020                    9  75-84 years   \n",
       "222  10/20/2020                2020                    9    80+ years   \n",
       "223  10/20/2020                2020                    9    80+ years   \n",
       "224  10/20/2020                2020                    9    85+ years   \n",
       "225  10/20/2020                2020                    9    85+ years   \n",
       "\n",
       "            Sex  COVID19  Diabetes.uc  Diabetes.mc  C19PlusDiabetes  \\\n",
       "0    Female (F)        0            3            5                0   \n",
       "1      Male (M)        0            3            3                0   \n",
       "2    Female (F)        0           20           36                0   \n",
       "3      Male (M)        0           44           65                0   \n",
       "4    Female (F)        0           53          104                0   \n",
       "..          ...      ...          ...          ...              ...   \n",
       "221    Male (M)     2525          956         3925              385   \n",
       "222  Female (F)     3847         1201         4809              426   \n",
       "223    Male (M)     3277         1053         4387              394   \n",
       "224  Female (F)     2778          806         3204              270   \n",
       "225    Male (M)     2036          620         2571              229   \n",
       "\n",
       "     C19PlusHypertensiveDiseases  C19PlusMajorCardiovascularDiseases  \\\n",
       "0                              0                                   0   \n",
       "1                              0                                   0   \n",
       "2                              0                                   0   \n",
       "3                              0                                   0   \n",
       "4                              0                                   0   \n",
       "..                           ...                                 ...   \n",
       "221                          434                                1182   \n",
       "222                          785                                1785   \n",
       "223                          580                                1590   \n",
       "224                          578                                1295   \n",
       "225                          363                                 985   \n",
       "\n",
       "     C19PlusHypertensiveDiseasesAndMCVD  \\\n",
       "0                                     0   \n",
       "1                                     0   \n",
       "2                                     0   \n",
       "3                                     0   \n",
       "4                                     0   \n",
       "..                                  ...   \n",
       "221                                1182   \n",
       "222                                1785   \n",
       "223                                1590   \n",
       "224                                1295   \n",
       "225                                 985   \n",
       "\n",
       "     C19PlusChronicLowerRespiratoryDisease  C19PlusKidneyDisease  \\\n",
       "0                                        0                     0   \n",
       "1                                        0                     0   \n",
       "2                                        0                     0   \n",
       "3                                        0                     0   \n",
       "4                                        0                     0   \n",
       "..                                     ...                   ...   \n",
       "221                                    276                   292   \n",
       "222                                    318                   255   \n",
       "223                                    340                   331   \n",
       "224                                    209                   179   \n",
       "225                                    195                   189   \n",
       "\n",
       "     C19PlusChronicLiverDiseaseAndCirrhosis  C19PlusObesity  \n",
       "0                                         0               0  \n",
       "1                                         0               0  \n",
       "2                                         0               0  \n",
       "3                                         0               0  \n",
       "4                                         0               0  \n",
       "..                                      ...             ...  \n",
       "221                                       7              52  \n",
       "222                                       7              31  \n",
       "223                                       6              16  \n",
       "224                                       3              16  \n",
       "225                                       3               4  \n",
       "\n",
       "[226 rows x 16 columns]"
      ]
     },
     "execution_count": 31,
     "metadata": {},
     "output_type": "execute_result"
    }
   ],
   "source": [
    "deaths_data"
   ]
  },
  {
   "cell_type": "code",
   "execution_count": 32,
   "id": "ec06d9cd",
   "metadata": {},
   "outputs": [
    {
     "data": {
      "text/plain": [
       "<AxesSubplot:>"
      ]
     },
     "execution_count": 32,
     "metadata": {},
     "output_type": "execute_result"
    },
    {
     "data": {
      "image/png": "[encoded data removed]",
      "text/plain": [
       "<Figure size 432x288 with 2 Axes>"
      ]
     },
     "metadata": {
      "needs_background": "light"
     },
     "output_type": "display_data"
    }
   ],
   "source": [
    "sns.heatmap(deaths_data[['Diabetes.uc','C19PlusMajorCardiovascularDiseases','C19PlusObesity']].corr(),annot=True)"
   ]
  },
  {
   "cell_type": "code",
   "execution_count": null,
   "id": "636b4c8e",
   "metadata": {},
   "outputs": [],
   "source": []
  }
 ],
 "metadata": {
  "kernelspec": {
   "display_name": "Python 3 (ipykernel)",
   "language": "python",
   "name": "python3"
  },
  "language_info": {
   "codemirror_mode": {
    "name": "ipython",
    "version": 3
   },
   "file_extension": ".py",
   "mimetype": "text/x-python",
   "name": "python",
   "nbconvert_exporter": "python",
   "pygments_lexer": "ipython3",
   "version": "3.9.7"
  }
 },
 "nbformat": 4,
 "nbformat_minor": 5
}
